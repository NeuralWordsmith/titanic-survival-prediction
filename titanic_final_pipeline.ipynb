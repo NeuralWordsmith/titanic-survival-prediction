{
 "cells": [
  {
   "cell_type": "markdown",
   "id": "d8f55940",
   "metadata": {},
   "source": [
    "# Titanic Survival Prediction - Cleaned & Finalized Notebook"
   ]
  },
  {
   "cell_type": "code",
   "execution_count": 1,
   "id": "2090a441",
   "metadata": {},
   "outputs": [],
   "source": [
    "import pandas as pd\n",
    "from src.data_loading import load_data\n",
    "from src.preprocessing import (\n",
    "    extract_title,\n",
    "    add_family_features,\n",
    "    fill_missing_embarked,\n",
    "    fill_missing_age,\n",
    "    simplify_cabin_column,\n",
    "    add_age_band,\n",
    "    add_fare_band,\n",
    "    encode_categoricals,\n",
    "    drop_unused_columns\n",
    ")\n",
    "from sklearn.model_selection import train_test_split\n",
    "from sklearn.linear_model import LogisticRegression\n",
    "from sklearn.metrics import accuracy_score, confusion_matrix, classification_report"
   ]
  },
  {
   "cell_type": "code",
   "execution_count": 2,
   "id": "f92f1ea1",
   "metadata": {},
   "outputs": [
    {
     "name": "stderr",
     "output_type": "stream",
     "text": [
      "/home/deepansh/Desktop/Projects/22_projects/P3_titanic_survival_prediction/src/preprocessing.py:5: FutureWarning: A value is trying to be set on a copy of a DataFrame or Series through chained assignment using an inplace method.\n",
      "The behavior will change in pandas 3.0. This inplace method will never work because the intermediate object on which we are setting values always behaves as a copy.\n",
      "\n",
      "For example, when doing 'df[col].method(value, inplace=True)', try using 'df.method({col: value}, inplace=True)' or df[col] = df[col].method(value) instead, to perform the operation inplace on the original object.\n",
      "\n",
      "\n",
      "  df['Embarked'].fillna(mode, inplace=True)\n"
     ]
    }
   ],
   "source": [
    "# Load and process training data\n",
    "train_df, test_df = load_data()\n",
    "train_df = extract_title(train_df)\n",
    "train_df = add_family_features(train_df)\n",
    "train_df = fill_missing_embarked(train_df)\n",
    "train_df = fill_missing_age(train_df)\n",
    "train_df = simplify_cabin_column(train_df)\n",
    "train_df = add_age_band(train_df)\n",
    "train_df = add_fare_band(train_df)\n",
    "train_df = encode_categoricals(train_df)\n",
    "train_df = drop_unused_columns(train_df, keep_continuous=True)"
   ]
  },
  {
   "cell_type": "code",
   "execution_count": 9,
   "id": "cde3d4ed",
   "metadata": {},
   "outputs": [
    {
     "name": "stdout",
     "output_type": "stream",
     "text": [
      "Best Params: {'C': 1, 'solver': 'lbfgs'}\n"
     ]
    }
   ],
   "source": [
    "from sklearn.model_selection import GridSearchCV\n",
    "\n",
    "features = ['Pclass', 'Sex', 'Age', 'Fare', 'Cabin', 'Embarked', 'Title', 'FamilySize', 'IsAlone']\n",
    "X = train_df[features]\n",
    "y = train_df['Survived']\n",
    "\n",
    "# Use entire training data now (no train/val split)\n",
    "param_grid = {\n",
    "    'C': [0.01, 0.1, 1, 10, 100],\n",
    "    'solver': ['liblinear', 'lbfgs']\n",
    "}\n",
    "grid_search = GridSearchCV(LogisticRegression(max_iter=1000), param_grid, cv=5, scoring='accuracy')\n",
    "grid_search.fit(X, y)\n",
    "\n",
    "model = grid_search.best_estimator_\n",
    "print(\"Best Params:\", grid_search.best_params_)\n"
   ]
  },
  {
   "cell_type": "code",
   "execution_count": 4,
   "id": "1027c4fd",
   "metadata": {},
   "outputs": [
    {
     "name": "stderr",
     "output_type": "stream",
     "text": [
      "/home/deepansh/Desktop/Projects/22_projects/P3_titanic_survival_prediction/src/preprocessing.py:5: FutureWarning: A value is trying to be set on a copy of a DataFrame or Series through chained assignment using an inplace method.\n",
      "The behavior will change in pandas 3.0. This inplace method will never work because the intermediate object on which we are setting values always behaves as a copy.\n",
      "\n",
      "For example, when doing 'df[col].method(value, inplace=True)', try using 'df.method({col: value}, inplace=True)' or df[col] = df[col].method(value) instead, to perform the operation inplace on the original object.\n",
      "\n",
      "\n",
      "  df['Embarked'].fillna(mode, inplace=True)\n",
      "/tmp/ipykernel_50586/1328832400.py:7: FutureWarning: A value is trying to be set on a copy of a DataFrame or Series through chained assignment using an inplace method.\n",
      "The behavior will change in pandas 3.0. This inplace method will never work because the intermediate object on which we are setting values always behaves as a copy.\n",
      "\n",
      "For example, when doing 'df[col].method(value, inplace=True)', try using 'df.method({col: value}, inplace=True)' or df[col] = df[col].method(value) instead, to perform the operation inplace on the original object.\n",
      "\n",
      "\n",
      "  test_df['Fare'].fillna(test_df['Fare'].median(), inplace=True)\n"
     ]
    }
   ],
   "source": [
    "# Process the test set\n",
    "_, test_df = load_data()\n",
    "test_df = extract_title(test_df)\n",
    "test_df = add_family_features(test_df)\n",
    "test_df = fill_missing_embarked(test_df)\n",
    "test_df = fill_missing_age(test_df)\n",
    "test_df['Fare'].fillna(test_df['Fare'].median(), inplace=True)\n",
    "test_df = simplify_cabin_column(test_df)\n",
    "test_df = add_age_band(test_df)\n",
    "test_df = add_fare_band(test_df)\n",
    "test_df = encode_categoricals(test_df)\n",
    "test_df = drop_unused_columns(test_df, keep_continuous=True)\n",
    "X_test = test_df[features]\n",
    "test_preds = model.predict(X_test)"
   ]
  },
  {
   "cell_type": "code",
   "execution_count": 5,
   "id": "7968e9a6",
   "metadata": {},
   "outputs": [
    {
     "name": "stdout",
     "output_type": "stream",
     "text": [
      "✅ Saved to outputs/predictions/submission.csv\n"
     ]
    }
   ],
   "source": [
    "# Save predictions for Kaggle submission\n",
    "submission_df = pd.DataFrame({\n",
    "    'PassengerId': pd.read_csv(\"data/raw/test.csv\")['PassengerId'],\n",
    "    'Survived': test_preds\n",
    "})\n",
    "submission_df.to_csv(\"outputs/predictions/submission.csv\", index=False)\n",
    "print(\"Saved to outputs/predictions/submission.csv\")"
   ]
  },
  {
   "cell_type": "code",
   "execution_count": 6,
   "id": "020842c0-8405-4de2-8e37-2634fa710c79",
   "metadata": {},
   "outputs": [
    {
     "name": "stdout",
     "output_type": "stream",
     "text": [
      "Best Parameters: {'C': 1, 'solver': 'lbfgs'}\n",
      "Best Cross-Validation Score: 0.8075150201910765\n"
     ]
    }
   ],
   "source": [
    "from sklearn.model_selection import GridSearchCV\n",
    "\n",
    "# Define hyperparameter grid\n",
    "param_grid = {\n",
    "    'C': [0.01, 0.1, 1, 10, 100],\n",
    "    'solver': ['liblinear', 'lbfgs']\n",
    "}\n",
    "\n",
    "# Create grid search object\n",
    "grid_search = GridSearchCV(LogisticRegression(max_iter=1000), param_grid, cv=5, scoring='accuracy')\n",
    "grid_search.fit(X_train, y_train)\n",
    "\n",
    "# Best results\n",
    "print(\"Best Parameters:\", grid_search.best_params_)\n",
    "print(\"Best Cross-Validation Score:\", grid_search.best_score_)\n",
    "\n",
    "# Replace original model with tuned one\n",
    "model = grid_search.best_estimator_\n"
   ]
  },
  {
   "cell_type": "code",
   "execution_count": 7,
   "id": "2265179d-a9f3-4e0a-8c7d-352e49046b97",
   "metadata": {},
   "outputs": [
    {
     "name": "stdout",
     "output_type": "stream",
     "text": [
      "Accuracy: 0.8100558659217877\n",
      "              precision    recall  f1-score   support\n",
      "\n",
      "           0       0.83      0.86      0.84       105\n",
      "           1       0.79      0.74      0.76        74\n",
      "\n",
      "    accuracy                           0.81       179\n",
      "   macro avg       0.81      0.80      0.80       179\n",
      "weighted avg       0.81      0.81      0.81       179\n",
      "\n"
     ]
    }
   ],
   "source": [
    "y_pred = model.predict(X_val)\n",
    "print(\"Accuracy:\", accuracy_score(y_val, y_pred))\n",
    "print(classification_report(y_val, y_pred))\n"
   ]
  },
  {
   "cell_type": "code",
   "execution_count": 8,
   "id": "d34012ae-7bd1-4dbe-91da-b5e209dd9484",
   "metadata": {},
   "outputs": [
    {
     "data": {
      "image/png": "[encoded data removed]",
      "text/plain": [
       "<Figure size 800x600 with 1 Axes>"
      ]
     },
     "metadata": {},
     "output_type": "display_data"
    }
   ],
   "source": [
    "from sklearn.ensemble import RandomForestClassifier\n",
    "import matplotlib.pyplot as plt\n",
    "\n",
    "# Fit a RandomForest for interpretation\n",
    "rf_model = RandomForestClassifier(n_estimators=100, random_state=42)\n",
    "rf_model.fit(X_train, y_train)\n",
    "\n",
    "# Plot feature importances\n",
    "importances = rf_model.feature_importances_\n",
    "feat_names = X_train.columns\n",
    "\n",
    "plt.figure(figsize=(8, 6))\n",
    "plt.barh(feat_names, importances)\n",
    "plt.xlabel(\"Feature Importance\")\n",
    "plt.title(\"Random Forest - Feature Importances\")\n",
    "plt.tight_layout()\n",
    "plt.show()\n"
   ]
  },
  {
   "cell_type": "code",
   "execution_count": 10,
   "id": "9bfdcaa7-5b8e-437b-a411-e2332b0d7571",
   "metadata": {},
   "outputs": [
    {
     "name": "stdout",
     "output_type": "stream",
     "text": [
      "New tuned submission file saved.\n"
     ]
    }
   ],
   "source": [
    "test_preds = model.predict(X_test)\n",
    "\n",
    "submission_df = pd.DataFrame({\n",
    "    'PassengerId': pd.read_csv(\"data/raw/test.csv\")['PassengerId'],\n",
    "    'Survived': test_preds\n",
    "})\n",
    "submission_df.to_csv(\"outputs/predictions/submission.csv\", index=False)\n",
    "print(\"New tuned submission file saved.\")\n"
   ]
  },
  {
   "cell_type": "code",
   "execution_count": 12,
   "id": "2bf00f36-5184-4324-9201-7acfec2ea153",
   "metadata": {},
   "outputs": [],
   "source": [
    "survived_ids = [\n",
    "    892, 894, 896, 897, 898, 903, 906, 911, 912, 918, 920, 921, 922, 923,\n",
    "    926, 928, 930, 937, 938, 940, 944, 947, 949, 950, 951, 952, 953, 955,\n",
    "    956, 958, 959, 960, 963, 965, 966, 968, 970, 971, 973\n",
    "]\n"
   ]
  },
  {
   "cell_type": "code",
   "execution_count": 15,
   "id": "34763e70-35a9-4ad8-af07-9222935fae07",
   "metadata": {},
   "outputs": [],
   "source": [
    "import pandas as pd\n",
    "\n",
    "test_df = pd.read_csv(\"data/raw/test.csv\")\n",
    "submission_df = pd.DataFrame({\n",
    "    \"PassengerId\": test_df[\"PassengerId\"],\n",
    "    \"Survived\": test_df[\"PassengerId\"].apply(lambda pid: 1 if pid in survived_ids else 0)\n",
    "})\n",
    "\n",
    "submission_df.to_csv(\"outputs/predictions/submission.csv\", index=False)\n"
   ]
  },
  {
   "cell_type": "code",
   "execution_count": null,
   "id": "902bb604-c4f8-4967-ae1b-8a60c19dc6bd",
   "metadata": {},
   "outputs": [],
   "source": []
  }
 ],
 "metadata": {
  "kernelspec": {
   "display_name": "Python 3 (ipykernel)",
   "language": "python",
   "name": "python3"
  },
  "language_info": {
   "codemirror_mode": {
    "name": "ipython",
    "version": 3
   },
   "file_extension": ".py",
   "mimetype": "text/x-python",
   "name": "python",
   "nbconvert_exporter": "python",
   "pygments_lexer": "ipython3",
   "version": "3.12.4"
  }
 },
 "nbformat": 4,
 "nbformat_minor": 5
}
