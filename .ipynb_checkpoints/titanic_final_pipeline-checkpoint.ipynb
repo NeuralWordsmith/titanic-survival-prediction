{
 "cells": [
  {
   "cell_type": "markdown",
   "id": "d8f55940",
   "metadata": {},
   "source": [
    "# Titanic Survival Prediction - Cleaned & Finalized Notebook"
   ]
  },
  {
   "cell_type": "code",
   "execution_count": null,
   "id": "2090a441",
   "metadata": {},
   "outputs": [],
   "source": [
    "import pandas as pd\n",
    "from src.data_loading import load_data\n",
    "from src.preprocessing import (\n",
    "    extract_title,\n",
    "    add_family_features,\n",
    "    fill_missing_embarked,\n",
    "    fill_missing_age,\n",
    "    simplify_cabin_column,\n",
    "    add_age_band,\n",
    "    add_fare_band,\n",
    "    encode_categoricals,\n",
    "    drop_unused_columns\n",
    ")\n",
    "from sklearn.model_selection import train_test_split\n",
    "from sklearn.linear_model import LogisticRegression\n",
    "from sklearn.metrics import accuracy_score, confusion_matrix, classification_report"
   ]
  },
  {
   "cell_type": "code",
   "execution_count": null,
   "id": "f92f1ea1",
   "metadata": {},
   "outputs": [],
   "source": [
    "# Load and process training data\n",
    "train_df, test_df = load_data()\n",
    "train_df = extract_title(train_df)\n",
    "train_df = add_family_features(train_df)\n",
    "train_df = fill_missing_embarked(train_df)\n",
    "train_df = fill_missing_age(train_df)\n",
    "train_df = simplify_cabin_column(train_df)\n",
    "train_df = add_age_band(train_df)\n",
    "train_df = add_fare_band(train_df)\n",
    "train_df = encode_categoricals(train_df)\n",
    "train_df = drop_unused_columns(train_df, keep_continuous=True)"
   ]
  },
  {
   "cell_type": "code",
   "execution_count": null,
   "id": "cde3d4ed",
   "metadata": {},
   "outputs": [],
   "source": [
    "# Train/Test Split and Logistic Regression\n",
    "features = ['Pclass', 'Sex', 'Age', 'Fare', 'Cabin', 'Embarked', 'Title', 'FamilySize', 'IsAlone']\n",
    "X = train_df[features]\n",
    "y = train_df['Survived']\n",
    "X_train, X_val, y_train, y_val = train_test_split(X, y, test_size=0.2, random_state=42)\n",
    "model = LogisticRegression(max_iter=1000)\n",
    "model.fit(X_train, y_train)\n",
    "y_pred = model.predict(X_val)\n",
    "print(\"Validation Accuracy:\", accuracy_score(y_val, y_pred))\n",
    "print(confusion_matrix(y_val, y_pred))\n",
    "print(classification_report(y_val, y_pred))"
   ]
  },
  {
   "cell_type": "code",
   "execution_count": null,
   "id": "1027c4fd",
   "metadata": {},
   "outputs": [],
   "source": [
    "# Process the test set\n",
    "_, test_df = load_data()\n",
    "test_df = extract_title(test_df)\n",
    "test_df = add_family_features(test_df)\n",
    "test_df = fill_missing_embarked(test_df)\n",
    "test_df = fill_missing_age(test_df)\n",
    "test_df['Fare'].fillna(test_df['Fare'].median(), inplace=True)\n",
    "test_df = simplify_cabin_column(test_df)\n",
    "test_df = add_age_band(test_df)\n",
    "test_df = add_fare_band(test_df)\n",
    "test_df = encode_categoricals(test_df)\n",
    "test_df = drop_unused_columns(test_df, keep_continuous=True)\n",
    "X_test = test_df[features]\n",
    "test_preds = model.predict(X_test)"
   ]
  },
  {
   "cell_type": "code",
   "execution_count": null,
   "id": "7968e9a6",
   "metadata": {},
   "outputs": [],
   "source": [
    "# Save predictions for Kaggle submission\n",
    "submission_df = pd.DataFrame({\n",
    "    'PassengerId': pd.read_csv(\"data/raw/test.csv\")['PassengerId'],\n",
    "    'Survived': test_preds\n",
    "})\n",
    "submission_df.to_csv(\"outputs/predictions/submission.csv\", index=False)\n",
    "print(\"✅ Saved to outputs/predictions/submission.csv\")"
   ]
  }
 ],
 "metadata": {},
 "nbformat": 4,
 "nbformat_minor": 5
}
