{
 "cells": [
  {
   "cell_type": "markdown",
   "id": "449ed224",
   "metadata": {},
   "source": [
    "# Titanic Survival Prediction - Random Forest (High Score Version)"
   ]
  },
  {
   "cell_type": "code",
   "execution_count": null,
   "id": "eafa628a",
   "metadata": {},
   "outputs": [],
   "source": [
    "import pandas as pd\n",
    "from src.data_loading import load_data\n",
    "from src.preprocessing import (\n",
    "    extract_title,\n",
    "    add_family_features,\n",
    "    fill_missing_embarked,\n",
    "    fill_missing_age,\n",
    "    simplify_cabin_column,\n",
    "    add_age_band,\n",
    "    add_fare_band,\n",
    "    encode_categoricals,\n",
    "    drop_unused_columns\n",
    ")\n",
    "from sklearn.ensemble import RandomForestClassifier\n",
    "from sklearn.model_selection import train_test_split, GridSearchCV\n",
    "from sklearn.metrics import accuracy_score, classification_report, confusion_matrix"
   ]
  },
  {
   "cell_type": "code",
   "execution_count": null,
   "id": "6e988905",
   "metadata": {},
   "outputs": [],
   "source": [
    "# Load and preprocess training data\n",
    "train_df, test_df = load_data()\n",
    "train_df = extract_title(train_df)\n",
    "train_df = add_family_features(train_df)\n",
    "train_df = fill_missing_embarked(train_df)\n",
    "train_df = fill_missing_age(train_df)\n",
    "train_df = simplify_cabin_column(train_df)\n",
    "train_df = add_age_band(train_df)\n",
    "train_df = add_fare_band(train_df)\n",
    "train_df = encode_categoricals(train_df)\n",
    "train_df = drop_unused_columns(train_df, keep_continuous=True)"
   ]
  },
  {
   "cell_type": "code",
   "execution_count": null,
   "id": "d5dcd961",
   "metadata": {},
   "outputs": [],
   "source": [
    "# Train Random Forest on full training data\n",
    "features = ['Pclass', 'Sex', 'Age', 'Fare', 'Cabin', 'Embarked', 'Title', 'FamilySize', 'IsAlone']\n",
    "X = train_df[features]\n",
    "y = train_df['Survived']\n",
    "\n",
    "rf_model = RandomForestClassifier(n_estimators=300, max_depth=6, random_state=42)\n",
    "rf_model.fit(X, y)"
   ]
  },
  {
   "cell_type": "code",
   "execution_count": null,
   "id": "c1ea4998",
   "metadata": {},
   "outputs": [],
   "source": [
    "# Preprocess test data using same pipeline\n",
    "_, test_df = load_data()\n",
    "test_df = extract_title(test_df)\n",
    "test_df = add_family_features(test_df)\n",
    "test_df = fill_missing_embarked(test_df)\n",
    "test_df = fill_missing_age(test_df)\n",
    "test_df['Fare'].fillna(test_df['Fare'].median(), inplace=True)\n",
    "test_df = simplify_cabin_column(test_df)\n",
    "test_df = add_age_band(test_df)\n",
    "test_df = add_fare_band(test_df)\n",
    "test_df = encode_categoricals(test_df)\n",
    "test_df = drop_unused_columns(test_df, keep_continuous=True)\n",
    "\n",
    "X_test = test_df[features]\n",
    "test_preds = rf_model.predict(X_test)"
   ]
  },
  {
   "cell_type": "code",
   "execution_count": null,
   "id": "732e00e8",
   "metadata": {},
   "outputs": [],
   "source": [
    "# Save predictions to submission.csv\n",
    "submission_df = pd.DataFrame({\n",
    "    'PassengerId': pd.read_csv(\"data/raw/test.csv\")['PassengerId'],\n",
    "    'Survived': test_preds\n",
    "})\n",
    "submission_df.to_csv(\"outputs/predictions/submission.csv\", index=False)\n",
    "print(\"✅ submission.csv saved for Kaggle upload.\")"
   ]
  }
 ],
 "metadata": {},
 "nbformat": 4,
 "nbformat_minor": 5
}
