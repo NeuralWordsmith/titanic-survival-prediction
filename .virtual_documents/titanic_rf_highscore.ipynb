


import pandas as pd
from src.data_loading import load_data
from src.preprocessing import (
    extract_title,
    add_family_features,
    fill_missing_embarked,
    fill_missing_age,
    simplify_cabin_column,
    add_age_band,
    add_fare_band,
    encode_categoricals,
    drop_unused_columns
)
from sklearn.ensemble import RandomForestClassifier
from sklearn.model_selection import train_test_split, GridSearchCV
from sklearn.metrics import accuracy_score, classification_report, confusion_matrix


# Load and preprocess training data
train_df, test_df = load_data()
train_df = extract_title(train_df)
train_df = add_family_features(train_df)
train_df = fill_missing_embarked(train_df)
train_df = fill_missing_age(train_df)
train_df = simplify_cabin_column(train_df)
train_df = add_age_band(train_df)
train_df = add_fare_band(train_df)
train_df = encode_categoricals(train_df)
train_df = drop_unused_columns(train_df, keep_continuous=True)


# Train Random Forest on full training data
features = ['Pclass', 'Sex', 'Age', 'Fare', 'Cabin', 'Embarked', 'Title', 'FamilySize', 'IsAlone']
X = train_df[features]
y = train_df['Survived']

rf_model = RandomForestClassifier(n_estimators=300, max_depth=6, random_state=42)
rf_model.fit(X, y)


# Preprocess test data using same pipeline
_, test_df = load_data()
test_df = extract_title(test_df)
test_df = add_family_features(test_df)
test_df = fill_missing_embarked(test_df)
test_df = fill_missing_age(test_df)
test_df['Fare'].fillna(test_df['Fare'].median(), inplace=True)
test_df = simplify_cabin_column(test_df)
test_df = add_age_band(test_df)
test_df = add_fare_band(test_df)
test_df = encode_categoricals(test_df)
test_df = drop_unused_columns(test_df, keep_continuous=True)

X_test = test_df[features]
test_preds = rf_model.predict(X_test)


# Save predictions to submission.csv
submission_df = pd.DataFrame({
    'PassengerId': pd.read_csv("data/raw/test.csv")['PassengerId'],
    'Survived': test_preds
})
submission_df.to_csv("outputs/predictions/submission.csv", index=False)



